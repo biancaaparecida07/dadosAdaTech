{
 "cells": [
  {
   "cell_type": "markdown",
   "metadata": {},
   "source": [
    "# Curso Introdutório a Data Science - ADA Tech"
   ]
  },
  {
   "cell_type": "markdown",
   "metadata": {},
   "source": [
    "## Biblioteca Pandas"
   ]
  },
  {
   "cell_type": "code",
   "execution_count": null,
   "metadata": {},
   "outputs": [],
   "source": [
    "import pandas as pd"
   ]
  },
  {
   "cell_type": "markdown",
   "metadata": {},
   "source": [
    "#### Pandas Series"
   ]
  },
  {
   "cell_type": "markdown",
   "metadata": {},
   "source": [
    "#### Pandas - DataFrames"
   ]
  },
  {
   "cell_type": "code",
   "execution_count": null,
   "metadata": {},
   "outputs": [],
   "source": [
    "import pandas as pd"
   ]
  },
  {
   "cell_type": "code",
   "execution_count": null,
   "metadata": {},
   "outputs": [],
   "source": [
    "# Dados tabulares\n",
    "dicionario = {'Autores': ['Rick Riordan', 'J. R. R. Tolkien', 'Rick Riordan', 'Machado de Assis'], \n",
    "              'Títulos' : ['O Ladrão de Raios', 'A Sociedade do Anel', 'Mar de Montros', 'Mémórias Póstumas de Brás Cubas'], \n",
    "              'Preços' : [41.2, 35.7, 39.5, 40.5]}"
   ]
  },
  {
   "cell_type": "code",
   "execution_count": null,
   "metadata": {},
   "outputs": [],
   "source": [
    "# DataFrame\n",
    "df = pd.DataFrame(dicionario) # Criação de tabela por meio do dicionário\n",
    "df"
   ]
  },
  {
   "cell_type": "code",
   "execution_count": null,
   "metadata": {},
   "outputs": [],
   "source": [
    "# Dentro do Pandas, para filtrar: escolhe-se primeiro a coluna, depois o elemento. \n",
    "# Lista de Autores\n",
    "print (df['Autores']) # Primeiro colchete: coluna\n",
    "print (f\"\\n {df['Autores'][1]}\") # Segundo Colchete: Elemento"
   ]
  },
  {
   "cell_type": "code",
   "execution_count": null,
   "metadata": {},
   "outputs": [],
   "source": [
    "#Um filtro funciona como uma sérioe dentro do Pandas. Indíce e coluna. Série simples. \n",
    "# Se for dado numérico, podemos fazer as estatísticas. \n",
    "df['Preços'].mean()"
   ]
  },
  {
   "cell_type": "code",
   "execution_count": null,
   "metadata": {},
   "outputs": [],
   "source": [
    "# Buscando todos os elementos onde o autor seja o Rick Riordan. \n",
    "df['Autores'] == 'Rick Riordan'\n",
    "\n",
    "# Funciona como uma máscara Booleana. E entrega o resultado como true ou false para os elementos.\n",
    "mascara = df['Autores'] == 'Rick Riordan'\n",
    "\n",
    "df[mascara] # Acessando apenas os livros do autor que está na máscara"
   ]
  },
  {
   "cell_type": "code",
   "execution_count": null,
   "metadata": {},
   "outputs": [],
   "source": [
    "# Adicionando dado novo ao DATAFRAME- Trabalha-se muito parecido com uma lista. \n",
    "df.append({'Autores' : 'Rick Riordan', \n",
    "           'Títulos' : 'A Maldiçã do Titã', \n",
    "           'Preços' : 40.20}, ignore_index = True) # Ignore index verdadeiro para que não seja necessário entrar com o dado do índice, sobretudo quando não se sabe quantos elementos já ppossui o dicionário."
   ]
  },
  {
   "cell_type": "code",
   "execution_count": null,
   "metadata": {},
   "outputs": [],
   "source": [
    "#O Título do Novo elemento foi escrito errado e será preciso corrigir\n",
    "mascara_correcao = df['Títulos'] == 'A Maldiça do Titã'\n",
    "df.loc[mascara_correcao] # Traz só o que satisfaz a máscara. \n",
    "\n",
    "# Buscando apenas a coluna desejada a se fazer a alteração e atribuindo o dado correto\n",
    "df.loc[mascara_correcao, 'Títulos'] = 'A Maldição do Titã'"
   ]
  },
  {
   "cell_type": "code",
   "execution_count": null,
   "metadata": {},
   "outputs": [],
   "source": [
    "lista = [12, 23, 34, 45, 56, 67]\n",
    "\n",
    "# Transformando em uma série do Pandas: é como se o vetor se transformasse em linhas de uma tabela\n",
    "serie = pd.Series(lista)\n",
    "print(serie)"
   ]
  },
  {
   "cell_type": "code",
   "execution_count": null,
   "metadata": {},
   "outputs": [],
   "source": [
    "notas = {'Tiago' : 8, 'Guilherme' : 9.5, 'Juca' : 6.2} # O Pandas permite que se crie séries a partir de um dicionário\n",
    "serie_notas = pd.Series(notas)\n",
    "print(serie_notas)\n",
    "print(serie_notas['Tiago']) # Traz a nota do Thiago, entendendo a busca pela chave. Facilita a navegação entre os dados\n",
    "\n",
    "# Uso dos métodos das séries\n",
    "print(f\"\\n {serie_notas.mean()}\") # Média, é parecido com o Numpy, porque o Pandas é baseado no numpy porém acrescido de mais coisas como abaixo\n",
    "print(serie_notas.median())\n",
    "print(serie_notas.describe()) #Estatísticas\n",
    "\n",
    "print(f\"\\n {serie_notas.sum()}\") "
   ]
  },
  {
   "cell_type": "code",
   "execution_count": null,
   "metadata": {},
   "outputs": [],
   "source": [
    "!pip install numpy\n",
    "# pip install pandas\n",
    "# pip install sklearn\n",
    "# pip install matplotib\n"
   ]
  },
  {
   "cell_type": "code",
   "execution_count": null,
   "metadata": {},
   "outputs": [],
   "source": [
    "import numpy as np"
   ]
  },
  {
   "cell_type": "markdown",
   "metadata": {},
   "source": [
    "#### Numpy - Arrays"
   ]
  },
  {
   "cell_type": "code",
   "execution_count": null,
   "metadata": {},
   "outputs": [],
   "source": [
    "lista = [1,2,3,4,5,6]\n",
    "\n",
    "array = np.array(lista) # Um array do numpy possui todos os dados do mesmo tipo, e isso otimiza algumas funções do que com usando a lista, o array nativo."
   ]
  },
  {
   "cell_type": "code",
   "execution_count": null,
   "metadata": {},
   "outputs": [],
   "source": [
    "print(lista) #[1, 2, 3, 4, 5, 6]\n",
    "print(type(lista)) #list\n",
    "print(array) #[1 2 3 4 5 6]\n",
    "print(type(array)) #numpy.ndarray"
   ]
  },
  {
   "cell_type": "code",
   "execution_count": null,
   "metadata": {},
   "outputs": [],
   "source": [
    "arr_zeros = np.zeros(10)\n",
    "arr_zeros"
   ]
  },
  {
   "cell_type": "code",
   "execution_count": null,
   "metadata": {},
   "outputs": [],
   "source": [
    "array[0] = 9 # Assim como as listas, o array do numpy pode ser alterado\n",
    "print(array[0])\n",
    "print(array)"
   ]
  },
  {
   "cell_type": "markdown",
   "metadata": {},
   "source": [
    "#### Numpy - Matrizes"
   ]
  },
  {
   "cell_type": "code",
   "execution_count": null,
   "metadata": {},
   "outputs": [],
   "source": [
    "matriz_zeros = np.zeros((5,3)) #Definindo matriz de 5 linhas e 3 colunas\n",
    "matriz_zeros"
   ]
  },
  {
   "cell_type": "markdown",
   "metadata": {},
   "source": [
    "#### Funções do Numpy - Básicas"
   ]
  },
  {
   "cell_type": "code",
   "execution_count": null,
   "metadata": {},
   "outputs": [],
   "source": [
    "#Notas dos Alunos\n",
    "listaDeNotas = [9.8, 5.6, 7.8, 9.1, 6.5]\n",
    "notas = np.array(listaDeNotas) # Transformando a lista em um array do numpy\n",
    "print('Máximo', notas.max())\n",
    "print('Mínimo', notas.min())\n",
    "print(\"Desvio Padrão\", notas.std())\n",
    "print('Média', notas.mean())\n",
    "print('Posição da menor nota:', notas.argmin())"
   ]
  },
  {
   "cell_type": "markdown",
   "metadata": {},
   "source": [
    "#### Máscara Booleana"
   ]
  },
  {
   "cell_type": "code",
   "execution_count": null,
   "metadata": {},
   "outputs": [],
   "source": [
    "is_covid_positive = np.array(['Yes', 'No', 'No', 'Yes', 'Yes', 'No'])\n",
    "print(is_covid_positive)\n",
    "\n",
    "#Verificando quais casos são positivos\n",
    "mask = (is_covid_positive == 'Yes')\n",
    "print (mask) # array([ True, False, False,  True,  True, False])\n",
    "\n",
    "# Isso permite buscar dentro do array apenas os elementos que passam na máscara, na comparação. Ao invés de colocar o índice da lista, coloca a máscara\n",
    "print(is_covid_positive[mask]) #['Yes' 'Yes' 'Yes'] Então, 3 elementos da lista satisfazem a condição da máscara.\n",
    "\n",
    "# Então permite editar arquivos que satisfaçam a máscara\n",
    "is_covid_positive[mask] = 'C19'\n",
    "print(is_covid_positive) #['C19' 'No' 'No' 'C19' 'C19' 'No']"
   ]
  },
  {
   "cell_type": "code",
   "execution_count": null,
   "metadata": {},
   "outputs": [],
   "source": [
    "notas = np.array([4.9, 6.5, 3.2, 6.7])\n",
    "mask_notas = notas>=5\n",
    "print(mask_notas) #[False  True False  True]"
   ]
  }
 ],
 "metadata": {
  "language_info": {
   "name": "python"
  }
 },
 "nbformat": 4,
 "nbformat_minor": 2
}
