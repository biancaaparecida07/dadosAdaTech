{
 "cells": [
  {
   "cell_type": "markdown",
   "metadata": {},
   "source": [
    "# Curso Introdutório a Data Science - ADA Tech"
   ]
  },
  {
   "cell_type": "markdown",
   "metadata": {},
   "source": [
    "## Biblioteca Pandas"
   ]
  },
  {
   "cell_type": "code",
   "execution_count": 2,
   "metadata": {},
   "outputs": [],
   "source": [
    "import pandas as pd"
   ]
  },
  {
   "cell_type": "markdown",
   "metadata": {},
   "source": [
    "#### Pandas Series"
   ]
  },
  {
   "cell_type": "code",
   "execution_count": null,
   "metadata": {},
   "outputs": [],
   "source": [
    "# Série é muito parecido com o Array do Numpy - podendo optar por fazer o índice usando dicionário\n",
    "lista = [12, 23, 34, 45, 56, 67]\n",
    "seriePandas = pd.Series(lista) # Transforma o array para um formato de tabela, com índice. \n",
    "print(seriePandas)\n",
    "print(seriePandas[0]) # É possível acessar os índices"
   ]
  },
  {
   "cell_type": "code",
   "execution_count": null,
   "metadata": {},
   "outputs": [],
   "source": [
    "notas = {'Tiago' : 8, 'Guilherme' : 9.5, 'Juca' : 6.2}\n",
    "serie_Notas = pd.Series(notas)\n",
    "print(serie_Notas) # Neste caso, ao invés do campo de indice ser números, são nomes... os nomes da chave do dicionário\n",
    "print(serie_Notas['Guilherme']) # Então, ao invés de buscar pelo índice, podemos buscar pelo nome que nesse caso é o índice e trazer a nota daquele aluno"
   ]
  },
  {
   "cell_type": "code",
   "execution_count": null,
   "metadata": {},
   "outputs": [],
   "source": [
    "# Pandas é baseada no numpay, podendotambem trazer as estatísticas. \n",
    "print(serie_Notas.mean())\n",
    "print(serie_Notas.median())\n",
    "print(serie_Notas.describe())"
   ]
  },
  {
   "cell_type": "markdown",
   "metadata": {},
   "source": [
    "#### Pandas - DataFrames"
   ]
  },
  {
   "cell_type": "code",
   "execution_count": null,
   "metadata": {},
   "outputs": [],
   "source": [
    "import pandas as pd"
   ]
  },
  {
   "cell_type": "code",
   "execution_count": null,
   "metadata": {},
   "outputs": [],
   "source": [
    "# Dados tabulares\n",
    "dicionario = {'Autores': ['Rick Riordan', 'J. R. R. Tolkien', 'Rick Riordan', 'Machado de Assis'], \n",
    "              'Títulos' : ['O Ladrão de Raios', 'A Sociedade do Anel', 'Mar de Montros', 'Mémórias Póstumas de Brás Cubas'], \n",
    "              'Preços' : [41.2, 35.7, 39.5, 40.5]}"
   ]
  },
  {
   "cell_type": "code",
   "execution_count": null,
   "metadata": {},
   "outputs": [],
   "source": [
    "# DataFrame\n",
    "df = pd.DataFrame(dicionario) # Criação de tabela por meio do dicionário\n",
    "df"
   ]
  },
  {
   "cell_type": "code",
   "execution_count": null,
   "metadata": {},
   "outputs": [],
   "source": [
    "# Dentro do Pandas, para filtrar: escolhe-se primeiro a coluna, depois o elemento. \n",
    "# Lista de Autores\n",
    "print (df['Autores']) # Primeiro colchete: coluna\n",
    "print (f\"\\n {df['Autores'][1]}\") # Segundo Colchete: Elemento"
   ]
  },
  {
   "cell_type": "code",
   "execution_count": null,
   "metadata": {},
   "outputs": [],
   "source": [
    "#Um filtro funciona como uma sérioe dentro do Pandas. Indíce e coluna. Série simples. \n",
    "# Se for dado numérico, podemos fazer as estatísticas. \n",
    "df['Preços'].mean()"
   ]
  },
  {
   "cell_type": "code",
   "execution_count": null,
   "metadata": {},
   "outputs": [],
   "source": [
    "# Buscando todos os elementos onde o autor seja o Rick Riordan. \n",
    "df['Autores'] == 'Rick Riordan'\n",
    "\n",
    "# Funciona como uma máscara Booleana. E entrega o resultado como true ou false para os elementos.\n",
    "mascara = df['Autores'] == 'Rick Riordan'\n",
    "\n",
    "df[mascara] # Acessando apenas os livros do autor que está na máscara"
   ]
  },
  {
   "cell_type": "code",
   "execution_count": null,
   "metadata": {},
   "outputs": [],
   "source": [
    "# Adicionando dado novo ao DATAFRAME- Trabalha-se muito parecido com uma lista. \n",
    "df.append({'Autores' : 'Rick Riordan', \n",
    "           'Títulos' : 'A Maldiçã do Titã', \n",
    "           'Preços' : 40.20}, ignore_index = True) # Ignore index verdadeiro para que não seja necessário entrar com o dado do índice, sobretudo quando não se sabe quantos elementos já ppossui o dicionário."
   ]
  },
  {
   "cell_type": "code",
   "execution_count": null,
   "metadata": {},
   "outputs": [],
   "source": [
    "#O Título do Novo elemento foi escrito errado e será preciso corrigir\n",
    "mascara_correcao = df['Títulos'] == 'A Maldiça do Titã'\n",
    "df.loc[mascara_correcao] # Traz só o que satisfaz a máscara. \n",
    "\n",
    "# Buscando apenas a coluna desejada a se fazer a alteração e atribuindo o dado correto\n",
    "df.loc[mascara_correcao, 'Títulos'] = 'A Maldição do Titã'"
   ]
  }
 ],
 "metadata": {
  "kernelspec": {
   "display_name": "base",
   "language": "python",
   "name": "python3"
  },
  "language_info": {
   "codemirror_mode": {
    "name": "ipython",
    "version": 3
   },
   "file_extension": ".py",
   "mimetype": "text/x-python",
   "name": "python",
   "nbconvert_exporter": "python",
   "pygments_lexer": "ipython3",
   "version": "3.11.5"
  }
 },
 "nbformat": 4,
 "nbformat_minor": 2
}
