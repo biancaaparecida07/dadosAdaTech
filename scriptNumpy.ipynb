{
 "cells": [
  {
   "cell_type": "markdown",
   "metadata": {},
   "source": [
    "# Curso Introdutório a Data Science - ADA Tech"
   ]
  },
  {
   "cell_type": "markdown",
   "metadata": {},
   "source": [
    "## Biblioteca Numpy"
   ]
  },
  {
   "cell_type": "code",
   "execution_count": null,
   "id": "6f3cdffd",
   "metadata": {},
   "outputs": [],
   "source": [
    "!pip install numpy\n",
    "# pip install pandas\n",
    "# pip install sklearn\n",
    "# pip install matplotib\n"
   ]
  },
  {
   "cell_type": "code",
   "execution_count": 2,
   "id": "8c80120d",
   "metadata": {},
   "outputs": [],
   "source": [
    "import numpy as np"
   ]
  },
  {
   "cell_type": "markdown",
   "metadata": {},
   "source": [
    "#### Numpy - Arrays"
   ]
  },
  {
   "cell_type": "code",
   "execution_count": 4,
   "id": "a2c75006",
   "metadata": {},
   "outputs": [],
   "source": [
    "lista = [1,2,3,4,5,6]\n",
    "\n",
    "array = np.array(lista) # Um array do numpy possui todos os dados do mesmo tipo, e isso otimiza algumas funções do que com usando a lista, o array nativo."
   ]
  },
  {
   "cell_type": "code",
   "execution_count": null,
   "metadata": {},
   "outputs": [],
   "source": [
    "print(lista) #[1, 2, 3, 4, 5, 6]\n",
    "print(type(lista)) #list\n",
    "print(array) #[1 2 3 4 5 6]\n",
    "print(type(array)) #numpy.ndarray"
   ]
  },
  {
   "cell_type": "code",
   "execution_count": null,
   "metadata": {},
   "outputs": [],
   "source": [
    "arr_zeros = np.zeros(10)\n",
    "arr_zeros"
   ]
  },
  {
   "cell_type": "code",
   "execution_count": null,
   "metadata": {},
   "outputs": [],
   "source": [
    "array[0] = 9 # Assim como as listas, o array do numpy pode ser alterado\n",
    "print(array[0])\n",
    "print(array)"
   ]
  },
  {
   "cell_type": "markdown",
   "metadata": {},
   "source": [
    "#### Numpy - Matrizes"
   ]
  },
  {
   "cell_type": "code",
   "execution_count": null,
   "metadata": {},
   "outputs": [],
   "source": [
    "matriz_zeros = np.zeros((5,3)) #Definindo matriz de 5 linhas e 3 colunas\n",
    "matriz_zeros"
   ]
  },
  {
   "cell_type": "markdown",
   "metadata": {},
   "source": [
    "#### Funções do Numpy - Básicas"
   ]
  },
  {
   "cell_type": "code",
   "execution_count": null,
   "metadata": {},
   "outputs": [],
   "source": [
    "#Notas dos Alunos\n",
    "listaDeNotas = [9.8, 5.6, 7.8, 9.1, 6.5]\n",
    "notas = np.array(listaDeNotas) # Transformando a lista em um array do numpy\n",
    "print('Máximo', notas.max())\n",
    "print('Mínimo', notas.min())\n",
    "print(\"Desvio Padrão\", notas.std())\n",
    "print('Média', notas.mean())\n",
    "print('Posição da menor nota:', notas.argmin())"
   ]
  },
  {
   "cell_type": "markdown",
   "metadata": {},
   "source": [
    "#### Máscara Booleana"
   ]
  },
  {
   "cell_type": "code",
   "execution_count": null,
   "metadata": {},
   "outputs": [],
   "source": [
    "is_covid_positive = np.array(['Yes', 'No', 'No', 'Yes', 'Yes', 'No'])\n",
    "print(is_covid_positive)\n",
    "\n",
    "#Verificando quais casos são positivos\n",
    "mask = (is_covid_positive == 'Yes')\n",
    "print (mask) # array([ True, False, False,  True,  True, False])\n",
    "\n",
    "# Isso permite buscar dentro do array apenas os elementos que passam na máscara, na comparação. Ao invés de colocar o índice da lista, coloca a máscara\n",
    "print(is_covid_positive[mask]) #['Yes' 'Yes' 'Yes'] Então, 3 elementos da lista satisfazem a condição da máscara.\n",
    "\n",
    "# Então permite editar arquivos que satisfaçam a máscara\n",
    "is_covid_positive[mask] = 'C19'\n",
    "print(is_covid_positive) #['C19' 'No' 'No' 'C19' 'C19' 'No']"
   ]
  },
  {
   "cell_type": "code",
   "execution_count": null,
   "metadata": {},
   "outputs": [],
   "source": [
    "notas = np.array([4.9, 6.5, 3.2, 6.7])\n",
    "mask_notas = notas>=5\n",
    "print(mask_notas) #[False  True False  True]"
   ]
  }
 ],
 "metadata": {
  "kernelspec": {
   "display_name": "Python 3 (ipykernel)",
   "language": "python",
   "name": "python3"
  },
  "language_info": {
   "codemirror_mode": {
    "name": "ipython",
    "version": 3
   },
   "file_extension": ".py",
   "mimetype": "text/x-python",
   "name": "python",
   "nbconvert_exporter": "python",
   "pygments_lexer": "ipython3",
   "version": "3.11.5"
  }
 },
 "nbformat": 4,
 "nbformat_minor": 5
}
